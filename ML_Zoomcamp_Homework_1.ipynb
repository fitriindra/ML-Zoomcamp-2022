{
  "nbformat": 4,
  "nbformat_minor": 0,
  "metadata": {
    "colab": {
      "provenance": [],
      "authorship_tag": "ABX9TyPbBwhpKm+Ts238kDzi4sE5",
      "include_colab_link": true
    },
    "kernelspec": {
      "name": "python3",
      "display_name": "Python 3"
    },
    "language_info": {
      "name": "python"
    }
  },
  "cells": [
    {
      "cell_type": "markdown",
      "metadata": {
        "id": "view-in-github",
        "colab_type": "text"
      },
      "source": [
        "<a href=\"https://colab.research.google.com/github/fitriindra/ML-Zoomcamp-2022/blob/main/ML_Zoomcamp_Homework_1.ipynb\" target=\"_parent\"><img src=\"https://colab.research.google.com/assets/colab-badge.svg\" alt=\"Open In Colab\"/></a>"
      ]
    },
    {
      "cell_type": "code",
      "source": [
        "import numpy as np\n",
        "import pandas as pd"
      ],
      "metadata": {
        "id": "7MiuukYEaN0w"
      },
      "execution_count": 1,
      "outputs": []
    },
    {
      "cell_type": "markdown",
      "source": [
        "##Question 1\n",
        "What's the version of NumPy that you installed?\n",
        "\n",
        "You can get the version information using the __version__ field:"
      ],
      "metadata": {
        "id": "MS3PuUxaaO8v"
      }
    },
    {
      "cell_type": "code",
      "execution_count": 2,
      "metadata": {
        "colab": {
          "base_uri": "https://localhost:8080/",
          "height": 36
        },
        "id": "G2XCtRK9TDyN",
        "outputId": "f888fa11-b8b9-40b1-ed1f-2862fecb2d17"
      },
      "outputs": [
        {
          "output_type": "execute_result",
          "data": {
            "text/plain": [
              "'1.21.6'"
            ],
            "application/vnd.google.colaboratory.intrinsic+json": {
              "type": "string"
            }
          },
          "metadata": {},
          "execution_count": 2
        }
      ],
      "source": [
        "np.__version__"
      ]
    },
    {
      "cell_type": "markdown",
      "source": [
        "###Getting the data\n",
        "For this homework, we'll use the Car price dataset. Download it from [here](https://raw.githubusercontent.com/alexeygrigorev/mlbookcamp-code/master/chapter-02-car-price/data.csv).\n",
        "\n",
        "You can do it with wget:\n",
        "\n",
        "`wget https://raw.githubusercontent.com/alexeygrigorev/mlbookcamp-code/master/chapter-02-car-price/data.csv`\n",
        "Or just open it with your browser and click \"Save as...\".\n",
        "\n",
        "Now read it with Pandas."
      ],
      "metadata": {
        "id": "e8ww4wAa64GP"
      }
    },
    {
      "cell_type": "code",
      "source": [
        "!wget https://raw.githubusercontent.com/alexeygrigorev/mlbookcamp-code/master/chapter-02-car-price/data.csv"
      ],
      "metadata": {
        "colab": {
          "base_uri": "https://localhost:8080/"
        },
        "id": "-zrKvA5GU0Yg",
        "outputId": "e14655f9-7182-4954-977a-0abf5d352d82"
      },
      "execution_count": 3,
      "outputs": [
        {
          "output_type": "stream",
          "name": "stdout",
          "text": [
            "--2022-09-11 14:18:20--  https://raw.githubusercontent.com/alexeygrigorev/mlbookcamp-code/master/chapter-02-car-price/data.csv\n",
            "Resolving raw.githubusercontent.com (raw.githubusercontent.com)... 185.199.108.133, 185.199.109.133, 185.199.110.133, ...\n",
            "Connecting to raw.githubusercontent.com (raw.githubusercontent.com)|185.199.108.133|:443... connected.\n",
            "HTTP request sent, awaiting response... 200 OK\n",
            "Length: 1475504 (1.4M) [text/plain]\n",
            "Saving to: ‘data.csv’\n",
            "\n",
            "\rdata.csv              0%[                    ]       0  --.-KB/s               \rdata.csv            100%[===================>]   1.41M  --.-KB/s    in 0.05s   \n",
            "\n",
            "2022-09-11 14:18:20 (25.6 MB/s) - ‘data.csv’ saved [1475504/1475504]\n",
            "\n"
          ]
        }
      ]
    },
    {
      "cell_type": "markdown",
      "source": [
        "##Question 2\n",
        "How many records are in the dataset?\n",
        "\n",
        "Here you need to specify the number of rows."
      ],
      "metadata": {
        "id": "susHcqYPaSfr"
      }
    },
    {
      "cell_type": "code",
      "source": [
        "df = pd.read_csv(\"data.csv\")\n",
        "len(df)"
      ],
      "metadata": {
        "colab": {
          "base_uri": "https://localhost:8080/"
        },
        "id": "hToaRLGtU_y1",
        "outputId": "fc42a042-729c-48cb-ad1a-8367633dbdc0"
      },
      "execution_count": 4,
      "outputs": [
        {
          "output_type": "execute_result",
          "data": {
            "text/plain": [
              "11914"
            ]
          },
          "metadata": {},
          "execution_count": 4
        }
      ]
    },
    {
      "cell_type": "markdown",
      "source": [
        "##Question 3\n",
        "Who are the most frequent car manufacturers (top-3) according to the dataset?"
      ],
      "metadata": {
        "id": "aHa1QmtNaYri"
      }
    },
    {
      "cell_type": "code",
      "source": [
        "df['Make'].value_counts().head(3)"
      ],
      "metadata": {
        "colab": {
          "base_uri": "https://localhost:8080/"
        },
        "id": "cN32y3KaVQ8y",
        "outputId": "a3ba53d6-ce89-4e42-faf1-0f0437b936b1"
      },
      "execution_count": 5,
      "outputs": [
        {
          "output_type": "execute_result",
          "data": {
            "text/plain": [
              "Chevrolet     1123\n",
              "Ford           881\n",
              "Volkswagen     809\n",
              "Name: Make, dtype: int64"
            ]
          },
          "metadata": {},
          "execution_count": 5
        }
      ]
    },
    {
      "cell_type": "markdown",
      "source": [
        "##Question 4\n",
        "What's the number of unique Audi car models in the dataset?"
      ],
      "metadata": {
        "id": "11vryVriaUOW"
      }
    },
    {
      "cell_type": "code",
      "source": [
        "audi_df = df[df['Make']==\"Audi\"]\n",
        "audi_df['Model'].nunique()"
      ],
      "metadata": {
        "colab": {
          "base_uri": "https://localhost:8080/"
        },
        "id": "wusmwx15XJGQ",
        "outputId": "96a2511d-47e3-4a74-abdc-1b920536e23d"
      },
      "execution_count": 6,
      "outputs": [
        {
          "output_type": "execute_result",
          "data": {
            "text/plain": [
              "34"
            ]
          },
          "metadata": {},
          "execution_count": 6
        }
      ]
    },
    {
      "cell_type": "markdown",
      "source": [
        "##Question 5\n",
        "How many columns in the dataset have missing values?"
      ],
      "metadata": {
        "id": "FxrcPOmMac-g"
      }
    },
    {
      "cell_type": "code",
      "source": [
        "df.isnull().sum() > 0"
      ],
      "metadata": {
        "colab": {
          "base_uri": "https://localhost:8080/"
        },
        "id": "lX8kBhbKaAWJ",
        "outputId": "ed6aee93-453f-4937-cc87-c351ed41d5fb"
      },
      "execution_count": 7,
      "outputs": [
        {
          "output_type": "execute_result",
          "data": {
            "text/plain": [
              "Make                 False\n",
              "Model                False\n",
              "Year                 False\n",
              "Engine Fuel Type      True\n",
              "Engine HP             True\n",
              "Engine Cylinders      True\n",
              "Transmission Type    False\n",
              "Driven_Wheels        False\n",
              "Number of Doors       True\n",
              "Market Category       True\n",
              "Vehicle Size         False\n",
              "Vehicle Style        False\n",
              "highway MPG          False\n",
              "city mpg             False\n",
              "Popularity           False\n",
              "MSRP                 False\n",
              "dtype: bool"
            ]
          },
          "metadata": {},
          "execution_count": 7
        }
      ]
    },
    {
      "cell_type": "markdown",
      "source": [
        "##Question 6\n",
        "\n",
        "\n",
        "*   Find the median value of \"Engine Cylinders\" column in the dataset.\n",
        "*   Next, calculate the most frequent value of the same \"Engine Cylinders\".\n",
        "*   Use the fillna method to fill the missing values in \"Engine Cylinders\" with the most frequent value from the previous step.\n",
        "*   Now, calculate the median value of \"Engine Cylinders\" once again.\n",
        "\n",
        "Has it changed?\n",
        "\n",
        "Hint: refer to existing mode and median functions to complete the task."
      ],
      "metadata": {
        "id": "Fb97QhERaeS7"
      }
    },
    {
      "cell_type": "code",
      "source": [
        "#calculate median\n",
        "print(\"Median before: \", df['Engine Cylinders'].median())\n",
        "#get most frequent value\n",
        "freq_values = df['Engine Cylinders'].mode()\n",
        "#fill NaN with most frequent value\n",
        "df['Engine Cylinders'].fillna(freq_values.iloc[0], inplace=True)\n",
        "#recalculate median\n",
        "print(\"Median after: \", df['Engine Cylinders'].median())"
      ],
      "metadata": {
        "colab": {
          "base_uri": "https://localhost:8080/"
        },
        "id": "yzcvn1EBuF6M",
        "outputId": "b6fdb1bb-22e3-42f6-86b2-4d87c546ef26"
      },
      "execution_count": 8,
      "outputs": [
        {
          "output_type": "stream",
          "name": "stdout",
          "text": [
            "Median before:  6.0\n",
            "Median after:  6.0\n"
          ]
        }
      ]
    },
    {
      "cell_type": "markdown",
      "source": [
        "##Question 7\n",
        "\n",
        "\n",
        "*   Select all the \"Lotus\" cars from the dataset.\n",
        "*   Select only columns \"Engine HP\", \"Engine Cylinders\".\n",
        "*   Now drop all duplicated rows using drop_duplicates method (you should get a dataframe with 9 rows).\n",
        "*   Get the underlying NumPy array. Let's call it X.\n",
        "*   Compute matrix-matrix multiplication between the transpose of X and X. To get the transpose, use X.T. Let's call the result XTX.\n",
        "Invert XTX.\n",
        "*   Create an array y with values [1100, 800, 750, 850, 1300, 1000, 1000, 1300, 800].\n",
        "*   Multiply the inverse of XTX with the transpose of X, and then multiply the result by y. Call the result w.\n",
        "\n",
        "What's the value of the first element of w?\n",
        "\n",
        "Note: You just implemented linear regression. We'll talk about it in the next lesson."
      ],
      "metadata": {
        "id": "5X9r3i2mx2P_"
      }
    },
    {
      "cell_type": "code",
      "source": [
        "from numpy.linalg import inv\n",
        "\n",
        "#Select all the \"Lotus\" cars from the dataset.\n",
        "lotus_df = df[df['Make']==\"Lotus\"]\n",
        "#Select only columns \"Engine HP\", \"Engine Cylinders\".\n",
        "lotus_df = lotus_df[[\"Engine HP\", \"Engine Cylinders\"]]\n",
        "#Now drop all duplicated rows using drop_duplicates method (you should get a dataframe with 9 rows).\n",
        "lotus_df = lotus_df.drop_duplicates()\n",
        "#Get the underlying NumPy array. Let's call it X\n",
        "X = lotus_df.to_numpy()\n",
        "#Compute matrix-matrix multiplication between the transpose of X and X. To get the transpose, use X.T. Let's call the result XTX.\n",
        "XTX = np.dot(X.T, X)\n",
        "#Invert XTX.\n",
        "XTX_inv = inv(XTX)\n",
        "#Create an array y with values [1100, 800, 750, 850, 1300, 1000, 1000, 1300, 800].\n",
        "y = np.array([1100, 800, 750, 850, 1300, 1000, 1000, 1300, 800])\n",
        "#Multiply the inverse of XTX with the transpose of X, and then multiply the result by y. Call the result w.\n",
        "x = np.dot(XTX_inv, X.T)\n",
        "w = np.dot(x,y)\n",
        "print(w)"
      ],
      "metadata": {
        "colab": {
          "base_uri": "https://localhost:8080/"
        },
        "id": "nVBpYBIFx4Dg",
        "outputId": "4a76b70c-4202-4f9e-e4fd-d574e3096ffe"
      },
      "execution_count": 9,
      "outputs": [
        {
          "output_type": "stream",
          "name": "stdout",
          "text": [
            "[  4.59494481 -63.56432501]\n"
          ]
        }
      ]
    }
  ]
}